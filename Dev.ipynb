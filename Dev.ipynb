{
 "cells": [
  {
   "cell_type": "code",
   "execution_count": 1,
   "id": "5b6cdf58-00b9-459e-acd8-1063ede48ac3",
   "metadata": {
    "tags": []
   },
   "outputs": [],
   "source": [
    "import warnings\n",
    "warnings.filterwarnings(\"ignore\")\n",
    "\n",
    "import os\n",
    "import time\n",
    "import json\n",
    "import numpy as np\n",
    "import networkx as nx\n",
    "import matplotlib.pyplot as plt\n",
    "\n",
    "import src\n",
    "from src.reload import deep_reload"
   ]
  },
  {
   "cell_type": "code",
   "execution_count": 7,
   "id": "0c06d602-609e-42a4-b7b5-3b2a27f55ad3",
   "metadata": {},
   "outputs": [],
   "source": [
    "# Generating graph - test case\n",
    "\n",
    "nodes = []\n",
    "\n",
    "nodes.append({\n",
    "    'id': 'P_0',\n",
    "    'gen_cost': 10,\n",
    "    'load': 0,\n",
    "})\n",
    "\n",
    "nodes.append({\n",
    "    'id': 'P_1',\n",
    "    'gen_cost': 20,\n",
    "    'load': 0,\n",
    "})\n",
    "\n",
    "nodes.append({\n",
    "    'id': 'AP_0',\n",
    "    'gen_cost': 100,\n",
    "    'load': 100,\n",
    "})\n",
    "\n",
    "links = []\n",
    "\n",
    "links.append({\n",
    "    'source': 'P_0',\n",
    "    'target': 'P_1',\n",
    "    'limit': np.inf,\n",
    "    'susceptance': 1,\n",
    "})\n",
    "\n",
    "links.append({\n",
    "    'source': 'P_0',\n",
    "    'target': 'AP_0',\n",
    "    'limit': 10,\n",
    "    'susceptance': 1,\n",
    "})\n",
    "\n",
    "links.append({\n",
    "    'source': 'P_1',\n",
    "    'target': 'AP_0',\n",
    "    'limit': np.inf,\n",
    "    'susceptance': 1,\n",
    "})\n",
    "\n",
    "nlg = {'nodes': nodes, 'links': links}\n",
    "graph = src.graph.graph_from_nlg(nlg)"
   ]
  },
  {
   "cell_type": "code",
   "execution_count": 8,
   "id": "4870ac52-1ddf-4917-8492-bf595c3a2ab5",
   "metadata": {},
   "outputs": [
    {
     "data": {
      "text/plain": [
       "{'P_0': {'P_1': {'limit': inf, 'susceptance': 1},\n",
       "  'AP_0': {'limit': 10, 'susceptance': 1}},\n",
       " 'P_1': {'P_0': {'limit': inf, 'susceptance': 1},\n",
       "  'AP_0': {'limit': inf, 'susceptance': 1}},\n",
       " 'AP_0': {'P_0': {'limit': 10, 'susceptance': 1},\n",
       "  'P_1': {'limit': inf, 'susceptance': 1}}}"
      ]
     },
     "execution_count": 8,
     "metadata": {},
     "output_type": "execute_result"
    }
   ],
   "source": [
    "graph._adj"
   ]
  }
 ],
 "metadata": {
  "kernelspec": {
   "display_name": "Python 3 (ipykernel)",
   "language": "python",
   "name": "python3"
  },
  "language_info": {
   "codemirror_mode": {
    "name": "ipython",
    "version": 3
   },
   "file_extension": ".py",
   "mimetype": "text/x-python",
   "name": "python",
   "nbconvert_exporter": "python",
   "pygments_lexer": "ipython3",
   "version": "3.11.5"
  }
 },
 "nbformat": 4,
 "nbformat_minor": 5
}
