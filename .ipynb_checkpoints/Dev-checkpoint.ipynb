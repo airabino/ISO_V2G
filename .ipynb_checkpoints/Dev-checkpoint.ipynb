{
 "cells": [
  {
   "cell_type": "code",
   "execution_count": 1,
   "id": "5b6cdf58-00b9-459e-acd8-1063ede48ac3",
   "metadata": {
    "tags": []
   },
   "outputs": [],
   "source": [
    "import warnings\n",
    "warnings.filterwarnings(\"ignore\")\n",
    "\n",
    "import os\n",
    "import time\n",
    "import json\n",
    "import numpy as np\n",
    "import networkx as nx\n",
    "import matplotlib.pyplot as plt\n",
    "\n",
    "import src\n",
    "from src.reload import deep_reload"
   ]
  },
  {
   "cell_type": "code",
   "execution_count": null,
   "id": "0c06d602-609e-42a4-b7b5-3b2a27f55ad3",
   "metadata": {},
   "outputs": [],
   "source": [
    "# Generating graph - test case\n",
    "\n",
    "nodes = {}\n",
    "\n",
    "nodes['P_0'] = {\n",
    "    'gen_cost': 10 \n",
    "    'load': 0,\n",
    "}\n",
    "\n",
    "nodes['P_1'] = {\n",
    "    'gen_cost': 20 \n",
    "    'load': 0,\n",
    "}\n",
    "\n",
    "nodes['AP_0'] = {\n",
    "    'gen_cost': 100 \n",
    "    'load': 100,\n",
    "}\n",
    "\n",
    "links = {}\n",
    "\n",
    "links['P_0'] = {\n",
    "    'P_1': {\n",
    "        'limit': np.inf,\n",
    "        'susceptance': 1,\n",
    "    }\n",
    "    'AP_0': {\n",
    "        'limit': 10,\n",
    "        'susceptance': 1,\n",
    "    }\n",
    "}\n",
    "\n",
    "links['P_1'] = {\n",
    "    'P_0': {\n",
    "        'limit': np.inf,\n",
    "        'susceptance': 1,\n",
    "    }\n",
    "    'AP_0': {\n",
    "        'limit': np.inf,\n",
    "        'susceptance': 1,\n",
    "    }\n",
    "}\n",
    "\n",
    "links['AP_0'] = {\n",
    "    'P_0': {\n",
    "        'limit': 10,\n",
    "        'susceptance': 1,\n",
    "    }\n",
    "    'P_1': {\n",
    "        'limit': np.inf,\n",
    "        'susceptance': 1,\n",
    "    }\n",
    "}"
   ]
  }
 ],
 "metadata": {
  "kernelspec": {
   "display_name": "Python 3 (ipykernel)",
   "language": "python",
   "name": "python3"
  },
  "language_info": {
   "codemirror_mode": {
    "name": "ipython",
    "version": 3
   },
   "file_extension": ".py",
   "mimetype": "text/x-python",
   "name": "python",
   "nbconvert_exporter": "python",
   "pygments_lexer": "ipython3",
   "version": "3.11.5"
  }
 },
 "nbformat": 4,
 "nbformat_minor": 5
}
